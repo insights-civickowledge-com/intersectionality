{
 "cells": [
  {
   "cell_type": "code",
   "execution_count": 1,
   "id": "217f84ab-c589-44c5-bbb0-741b28dc13f8",
   "metadata": {},
   "outputs": [],
   "source": [
    "import pandas as pd\n",
    "import numpy as np\n",
    "import metapack as mp\n",
    "import rowgenerators as rg\n",
    "import matplotlib.pylab as plt\n",
    "\n",
    "import statsmodels.formula.api as smf\n",
    "import statsmodels.api as sm\n",
    "%matplotlib inline"
   ]
  },
  {
   "cell_type": "code",
   "execution_count": 2,
   "id": "352dd803-b61f-4c69-9833-4f11b3379b47",
   "metadata": {},
   "outputs": [],
   "source": [
    "# Main dataset, but we'll use the drived data\n",
    "# df = rg.dataframe('https://www.federalreserve.gov/econres/files/scf2019s.zip')"
   ]
  },
  {
   "cell_type": "code",
   "execution_count": 7,
   "id": "ac5d83ee-9592-46c9-907f-97d456a85e7d",
   "metadata": {},
   "outputs": [],
   "source": [
    "scf = rg.dataframe('https://www.federalreserve.gov/econres/files/scfp2019s.zip')"
   ]
  },
  {
   "cell_type": "code",
   "execution_count": 8,
   "id": "c0ff2ecc-7101-43d4-8422-5de57c24d763",
   "metadata": {},
   "outputs": [
    {
     "name": "stdout",
     "output_type": "stream",
     "text": [
      "1372\n"
     ]
    }
   ],
   "source": [
    "t = scf[['wgt','hhsex','agecl','age','edcl','racecl4','married','norminc','income']]\n",
    "t = t[(t.married == 2) & # Not married\n",
    "      (t.racecl4.isin([1,2])) & # Backs and whites\n",
    "      (t.edcl.isin([2,4])) & # HS or College\n",
    "      (t.age.between(25,45)) # Under 45\n",
    "     ]\n",
    "t = t[t.norminc <  t.norminc.quantile(.9)] # Less than 90% percentile of income\n",
    "t['college'] = t.edcl == 4\n",
    "print(len(t))\n",
    "df = t\n"
   ]
  },
  {
   "cell_type": "code",
   "execution_count": 9,
   "id": "a39d3dda-c451-4a47-8c58-b6928ca0ba1d",
   "metadata": {},
   "outputs": [
    {
     "data": {
      "text/plain": [
       "0.2585"
      ]
     },
     "execution_count": 9,
     "metadata": {},
     "output_type": "execute_result"
    }
   ],
   "source": [
    "r = smf.wls('norminc ~ C(hhsex) + age + C(college) + C(racecl4)', data=df, weights=df.wgt).fit()\n",
    "np.round(r.rsquared,4)"
   ]
  },
  {
   "cell_type": "code",
   "execution_count": 10,
   "id": "4937ceaf-572d-495e-b38d-17289f019983",
   "metadata": {},
   "outputs": [
    {
     "data": {
      "text/plain": [
       "0.2639"
      ]
     },
     "execution_count": 10,
     "metadata": {},
     "output_type": "execute_result"
    }
   ],
   "source": [
    "r = smf.wls('norminc ~ C(hhsex) + age + C(college) + C(racecl4) + C(hhsex):C(racecl4)', \n",
    "            data=df, weights=df.wgt).fit()\n",
    "np.round(r.rsquared,4)"
   ]
  },
  {
   "cell_type": "code",
   "execution_count": 13,
   "id": "55237add-25c8-4ddd-8038-efb9c553d4e6",
   "metadata": {},
   "outputs": [
    {
     "data": {
      "text/html": [
       "<div>\n",
       "<style scoped>\n",
       "    .dataframe tbody tr th:only-of-type {\n",
       "        vertical-align: middle;\n",
       "    }\n",
       "\n",
       "    .dataframe tbody tr th {\n",
       "        vertical-align: top;\n",
       "    }\n",
       "\n",
       "    .dataframe thead th {\n",
       "        text-align: right;\n",
       "    }\n",
       "</style>\n",
       "<table border=\"1\" class=\"dataframe\">\n",
       "  <thead>\n",
       "    <tr style=\"text-align: right;\">\n",
       "      <th></th>\n",
       "      <th>wgt</th>\n",
       "      <th>hhsex</th>\n",
       "      <th>agecl</th>\n",
       "      <th>age</th>\n",
       "      <th>edcl</th>\n",
       "      <th>racecl4</th>\n",
       "      <th>married</th>\n",
       "      <th>norminc</th>\n",
       "      <th>income</th>\n",
       "      <th>college</th>\n",
       "    </tr>\n",
       "  </thead>\n",
       "  <tbody>\n",
       "    <tr>\n",
       "      <th>25</th>\n",
       "      <td>5046.975165</td>\n",
       "      <td>1</td>\n",
       "      <td>1</td>\n",
       "      <td>28</td>\n",
       "      <td>4</td>\n",
       "      <td>1</td>\n",
       "      <td>2</td>\n",
       "      <td>27489.183342</td>\n",
       "      <td>27489.183342</td>\n",
       "      <td>True</td>\n",
       "    </tr>\n",
       "    <tr>\n",
       "      <th>26</th>\n",
       "      <td>5058.636930</td>\n",
       "      <td>1</td>\n",
       "      <td>1</td>\n",
       "      <td>28</td>\n",
       "      <td>4</td>\n",
       "      <td>1</td>\n",
       "      <td>2</td>\n",
       "      <td>27489.183342</td>\n",
       "      <td>27489.183342</td>\n",
       "      <td>True</td>\n",
       "    </tr>\n",
       "    <tr>\n",
       "      <th>27</th>\n",
       "      <td>5050.507640</td>\n",
       "      <td>1</td>\n",
       "      <td>1</td>\n",
       "      <td>28</td>\n",
       "      <td>4</td>\n",
       "      <td>1</td>\n",
       "      <td>2</td>\n",
       "      <td>27489.183342</td>\n",
       "      <td>27489.183342</td>\n",
       "      <td>True</td>\n",
       "    </tr>\n",
       "    <tr>\n",
       "      <th>28</th>\n",
       "      <td>5049.896460</td>\n",
       "      <td>1</td>\n",
       "      <td>1</td>\n",
       "      <td>28</td>\n",
       "      <td>4</td>\n",
       "      <td>1</td>\n",
       "      <td>2</td>\n",
       "      <td>27489.183342</td>\n",
       "      <td>27489.183342</td>\n",
       "      <td>True</td>\n",
       "    </tr>\n",
       "    <tr>\n",
       "      <th>29</th>\n",
       "      <td>5058.539110</td>\n",
       "      <td>1</td>\n",
       "      <td>1</td>\n",
       "      <td>28</td>\n",
       "      <td>4</td>\n",
       "      <td>1</td>\n",
       "      <td>2</td>\n",
       "      <td>27489.183342</td>\n",
       "      <td>27489.183342</td>\n",
       "      <td>True</td>\n",
       "    </tr>\n",
       "  </tbody>\n",
       "</table>\n",
       "</div>"
      ],
      "text/plain": [
       "            wgt  hhsex  agecl  age  edcl  racecl4  married       norminc  \\\n",
       "25  5046.975165      1      1   28     4        1        2  27489.183342   \n",
       "26  5058.636930      1      1   28     4        1        2  27489.183342   \n",
       "27  5050.507640      1      1   28     4        1        2  27489.183342   \n",
       "28  5049.896460      1      1   28     4        1        2  27489.183342   \n",
       "29  5058.539110      1      1   28     4        1        2  27489.183342   \n",
       "\n",
       "          income  college  \n",
       "25  27489.183342     True  \n",
       "26  27489.183342     True  \n",
       "27  27489.183342     True  \n",
       "28  27489.183342     True  \n",
       "29  27489.183342     True  "
      ]
     },
     "execution_count": 13,
     "metadata": {},
     "output_type": "execute_result"
    }
   ],
   "source": [
    "df.head()"
   ]
  },
  {
   "cell_type": "code",
   "execution_count": null,
   "id": "592a0259-3a38-4274-b904-be159f71d052",
   "metadata": {},
   "outputs": [],
   "source": []
  }
 ],
 "metadata": {
  "kernelspec": {
   "display_name": "Python 3 (ipykernel)",
   "language": "python",
   "name": "python3"
  },
  "language_info": {
   "codemirror_mode": {
    "name": "ipython",
    "version": 3
   },
   "file_extension": ".py",
   "mimetype": "text/x-python",
   "name": "python",
   "nbconvert_exporter": "python",
   "pygments_lexer": "ipython3",
   "version": "3.9.7"
  }
 },
 "nbformat": 4,
 "nbformat_minor": 5
}
