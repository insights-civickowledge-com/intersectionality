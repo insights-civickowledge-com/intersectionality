{
 "cells": [
  {
   "cell_type": "code",
   "execution_count": 6,
   "id": "217f84ab-c589-44c5-bbb0-741b28dc13f8",
   "metadata": {},
   "outputs": [],
   "source": [
    "import pandas as pd\n",
    "import numpy as np\n",
    "import metapack as mp\n",
    "\n",
    "import statsmodels.formula.api as smf\n",
    "import statsmodels.api as sm\n",
    "\n",
    "import matplotlib.pylab as plt\n",
    "%matplotlib inline"
   ]
  },
  {
   "cell_type": "code",
   "execution_count": 46,
   "id": "ec4de24e-1f49-4767-9540-c464c8f496cc",
   "metadata": {},
   "outputs": [],
   "source": [
    "cps = pd.read_csv('cps_00005.csv')\n"
   ]
  },
  {
   "cell_type": "code",
   "execution_count": 47,
   "id": "53cd3cf1-22d9-473b-9db8-dba869fb01af",
   "metadata": {},
   "outputs": [],
   "source": [
    "t = cps[['INCTOT','AGE','SEX','RACE','MARST','EDUC']]\n",
    "\n",
    "t = t[(t.RACE.isin([100,200])) & # White or Black\n",
    "       (t.MARST.isin([3,4,5,6,7])) # Not married: single, divorced, widowed\n",
    "      ].copy()\n",
    "t['edu'] = t.EDUC > 73 # Above or below HS deploma\n",
    "\n",
    "df = t"
   ]
  },
  {
   "cell_type": "code",
   "execution_count": 50,
   "id": "2b0fc64d-27cc-40a0-873e-087ea891fa34",
   "metadata": {},
   "outputs": [
    {
     "data": {
      "text/plain": [
       "0.5261333248536125"
      ]
     },
     "execution_count": 50,
     "metadata": {},
     "output_type": "execute_result"
    }
   ],
   "source": [
    "r = smf.wls('INCTOT ~ AGE + C(SEX) + C(RACE) + C(edu)', data=df).fit()\n",
    "r.rsquared"
   ]
  },
  {
   "cell_type": "code",
   "execution_count": 51,
   "id": "0e0e3b86-43fa-47e9-8433-3e4dc0705340",
   "metadata": {},
   "outputs": [
    {
     "data": {
      "text/plain": [
       "0.5261564436931342"
      ]
     },
     "execution_count": 51,
     "metadata": {},
     "output_type": "execute_result"
    }
   ],
   "source": [
    "r = smf.wls('INCTOT ~ AGE + C(SEX) + C(RACE) + C(edu) + C(SEX):C(RACE)', data=df).fit()\n",
    "r.rsquared"
   ]
  },
  {
   "cell_type": "code",
   "execution_count": null,
   "id": "bc925a00-83e8-4466-af07-41b85db4f5cf",
   "metadata": {},
   "outputs": [],
   "source": []
  }
 ],
 "metadata": {
  "kernelspec": {
   "display_name": "Python 3 (ipykernel)",
   "language": "python",
   "name": "python3"
  },
  "language_info": {
   "codemirror_mode": {
    "name": "ipython",
    "version": 3
   },
   "file_extension": ".py",
   "mimetype": "text/x-python",
   "name": "python",
   "nbconvert_exporter": "python",
   "pygments_lexer": "ipython3",
   "version": "3.9.7"
  }
 },
 "nbformat": 4,
 "nbformat_minor": 5
}
